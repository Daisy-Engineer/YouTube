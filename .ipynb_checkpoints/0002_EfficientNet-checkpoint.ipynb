{
 "cells": [
  {
   "cell_type": "markdown",
   "metadata": {},
   "source": [
    "- EfficientNet rethinks the way in which we scale the CNNs up\n",
    "- One wasy of scaling is adding more layers - ResNet18 to ResNet200\n",
    "- Width scaling: adding more feature maps\n",
    "- Depth scaling: more layers\n",
    "- Resolution scaling: larger input images\n",
    "- Compound scaling: combination of increasing width, adding more layers, and enargening the resolution\n",
    "- Compound scaling is a basic idea in EfficientNet - the idea is to balance upsampling of width, depth, and resolution by scalling with a contant ratio\n",
    "\n",
    "- Intuition: if the input image is bigger, then the network needs more layer to increase the receptive field and more channels to capture more fine-grained patterns on the bigger image"
   ]
  }
 ],
 "metadata": {
  "kernelspec": {
   "display_name": "Python 3",
   "language": "python",
   "name": "python3"
  },
  "language_info": {
   "codemirror_mode": {
    "name": "ipython",
    "version": 3
   },
   "file_extension": ".py",
   "mimetype": "text/x-python",
   "name": "python",
   "nbconvert_exporter": "python",
   "pygments_lexer": "ipython3",
   "version": "3.7.6"
  }
 },
 "nbformat": 4,
 "nbformat_minor": 4
}
